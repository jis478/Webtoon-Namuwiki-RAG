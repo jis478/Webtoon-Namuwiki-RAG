{
 "cells": [
  {
   "cell_type": "markdown",
   "metadata": {},
   "source": [
    "## RAGAS for the Korean dataset"
   ]
  },
  {
   "cell_type": "code",
   "execution_count": 1,
   "metadata": {},
   "outputs": [],
   "source": [
    "from ragas.metrics import (\n",
    "    faithfulness,\n",
    "    answer_correctness,\n",
    "    answer_similarity\n",
    ")\n",
    "from langchain.chat_models import ChatOpenAI\n",
    "from ragas import adapt\n",
    "import os\n",
    "\n",
    "os.environ[\"OPENAI_API_KEY\"] = \"YOUR OWN KEY\" \n",
    "\n",
    "# llm used for adaptation\n",
    "openai_model = ChatOpenAI(model_name=\"gpt-4\")\n",
    "\n",
    "adapt(metrics=[faithfulness, answer_correctness], language=\"korean\", llm=openai_model)"
   ]
  },
  {
   "cell_type": "code",
   "execution_count": 2,
   "metadata": {},
   "outputs": [
    {
     "name": "stdout",
     "output_type": "stream",
     "text": [
      "Your task is to judge the faithfulness of a series of statements based on a given context. For each statement you must return verdict as 1 if the statement can be directly inferred based on the context or 0 if the statement can not be directly inferred based on the context.\n",
      "\n",
      "The output should be a well-formatted JSON instance that conforms to the JSON schema below.\n",
      "\n",
      "As an example, for the schema {{\"properties\": {{\"foo\": {{\"title\": \"Foo\", \"description\": \"a list of strings\", \"type\": \"array\", \"items\": {{\"type\": \"string\"}}}}}}, \"required\": [\"foo\"]}}\n",
      "the object {{\"foo\": [\"bar\", \"baz\"]}} is a well-formatted instance of the schema. The object {{\"properties\": {{\"foo\": [\"bar\", \"baz\"]}}}} is not well-formatted.\n",
      "\n",
      "Here is the output JSON schema:\n",
      "```\n",
      "{{\"type\": \"array\", \"items\": {{\"$ref\": \"#/definitions/StatementFaithfulnessAnswer\"}}, \"definitions\": {{\"StatementFaithfulnessAnswer\": {{\"title\": \"StatementFaithfulnessAnswer\", \"type\": \"object\", \"properties\": {{\"statement\": {{\"title\": \"Statement\", \"description\": \"the original statement, word-by-word\", \"type\": \"string\"}}, \"reason\": {{\"title\": \"Reason\", \"description\": \"the reason of the verdict\", \"type\": \"string\"}}, \"verdict\": {{\"title\": \"Verdict\", \"description\": \"the verdict(0/1) of the faithfulness.\", \"type\": \"integer\"}}}}, \"required\": [\"statement\", \"reason\", \"verdict\"]}}}}}}\n",
      "```\n",
      "\n",
      "Do not return any preamble or explanations, return only a pure JSON string surrounded by triple backticks (```).\n",
      "\n",
      "Examples:\n",
      "\n",
      "context: \"존은 XYZ 대학의 학생입니다. 그는 컴퓨터 과학 학위를 추구하고 있습니다. 그는 이번 학기에 데이터 구조, 알고리즘, 데이터베이스 관리 등 여러 과목에 등록되어 있습니다. 존은 성실한 학생이며 공부하고 과제를 완료하는 데 많은 시간을 보냅니다. 그는 종종 프로젝트를 진행하기 위해 도서관에서 늦게까지 머무릅니다.\"\n",
      "statements: \"['존은 생물학을 전공하고 있습니다.', '존은 인공지능에 대한 과정을 수강하고 있습니다.', '존은 헌신적인 학생입니다.', '존은 파트타임 직장이 있습니다.']\"\n",
      "answer: ```[{{\"statement\": \"존은 생물학을 전공하고 있다.\", \"reason\": \"존의 전공은 컴퓨터 과학으로 명시적으로 언급되어 있습니다. 그가 생물학을 전공하고 있다는 정보를 제안하는 것은 없습니다.\", \"verdict\": 0}}, {{\"statement\": \"존은 인공지능에 대한 과정을 수강하고 있다.\", \"reason\": \"문맥에서는 존이 현재 등록한 과정을 언급하고 있고, 인공지능은 언급되지 않았습니다. 따라서 존이 AI에 대한 과정을 수강하고 있다는 것을 추론할 수 없습니다.\", \"verdict\": 0}}, {{\"statement\": \"존은 헌신적인 학생이다.\", \"reason\": \"문맥에서는 그가 공부하고 과제를 완료하는 데 상당한 시간을 보내고 있다고 언급합니다. 또한 그가 프로젝트를 위해 도서관에 늦게 머무는 것을 자주 언급하고 있어, 이는 헌신을 의미합니다.\", \"verdict\": 1}}, {{\"statement\": \"존은 파트타임 직업이 있다.\", \"reason\": \"문맥에서는 존이 파트타임 직업을 가지고 있다는 정보가 주어지지 않았습니다.\", \"verdict\": 0}}]```\n",
      "\n",
      "context: \"광합성은 식물, 조류, 그리고 특정한 세균들이 빛 에너지를 화학 에너지로 변환하는 과정입니다.\"\n",
      "statements: \"['알버트 아인슈타인은 천재였다.']\"\n",
      "answer: ```[{{\"statement\": \"알버트 아인슈타인은 천재였다.\", \"reason\": \"문맥과 명제는 관련이 없다\", \"verdict\": 0}}]```\n",
      "\n",
      "Your actual task:\n",
      "\n",
      "context: {context}\n",
      "statements: {statements}\n",
      "answer: \n",
      "\n"
     ]
    }
   ],
   "source": [
    "print(faithfulness.nli_statements_message.to_string())"
   ]
  },
  {
   "cell_type": "markdown",
   "metadata": {},
   "source": [
    "## Evaluation sample"
   ]
  },
  {
   "cell_type": "code",
   "execution_count": 3,
   "metadata": {},
   "outputs": [],
   "source": [
    "from datasets import load_dataset, Dataset\n",
    "\n",
    "data_samples = {\n",
    "    \"question\": [\n",
    "        \"조석이 기르던 고양이 이름은 뭐야?\",\n",
    "        \"조석은 몇년도에 고양이를 키웠어?\",\n",
    "        \"조석은 몇년도에 고양이를 키웠어?\",\n",
    "        \"조석은 몇년도에 고양이를 키웠어?\",\n",
    "    ],\n",
    "    \"answer\": [\"게레로\", \"2005년\", \"2007년\", \"2007\"],\n",
    "    \"contexts\": [\n",
    "        [\n",
    "            \"게레로는 2007년 조석이 잠시 맡아 키우던 고양이. 고향 부모 집에 맡겼고 오래잖아 가출하여 4년 째 종적이 묘연해진 상태다. 지금의 센세이션과 같은 캐릭터를 갖고 있었다고 보면 된다. 이에 대해서는 그동안 단순 고양이 가출 정도로만 취급되다 2011년 7월 말에 전말이 알려졌다. 자세한 것은 위의 사과문 게재 단락과 조석(만화가)조석 문서 참고.\"\n",
    "        ],\n",
    "        [\n",
    "            \"게레로는 2007년 조석이 잠시 맡아 키우던 고양이. 고향 부모 집에 맡겼고 오래잖아 가출하여 4년 째 종적이 묘연해진 상태다. 지금의 센세이션과 같은 캐릭터를 갖고 있었다고 보면 된다. 이에 대해서는 그동안 단순 고양이 가출 정도로만 취급되다 2011년 7월 말에 전말이 알려졌다. 자세한 것은 위의 사과문 게재 단락과 조석(만화가)조석 문서 참고.\"\n",
    "        ],\n",
    "        [\n",
    "            \" 게레로는 2007년 조석이 잠시 맡아 키우던 고양이. 고향 부모 집에 맡겼고 오래잖아 가출하여 4년 째 종적이 묘연해진 상태다. 지금의 센세이션과 같은 캐릭터를 갖고 있었다고 보면 된다. 이에 대해서는 그동안 단순 고양이 가출 정도로만 취급되다 2011년 7월 말에 전말이 알려졌다. 자세한 것은 위의 사과문 게재 단락과 조석(만화가)조석 문서 참고.\"\n",
    "        ],\n",
    "        [\n",
    "            \"게레로는 2007년 조석이 잠시 맡아 키우던 고양이. 고향 부모 집에 맡겼고 오래잖아 가출하여 4년 째 종적이 묘연해진 상태다. 지금의 센세이션과 같은 캐릭터를 갖고 있었다고 보면 된다. 이에 대해서는 그동안 단순 고양이 가출 정도로만 취급되다 2011년 7월 말에 전말이 알려졌다. 자세한 것은 위의 사과문 게재 단락과 조석(만화가)조석 문서 참고.\"\n",
    "        ],\n",
    "    ],\n",
    "    \"ground_truth\": [\"게레로\", \"2007년\", \"2007년\", \"2007년\"],\n",
    "}\n",
    "\n",
    "dataset = Dataset.from_dict(data_samples)"
   ]
  },
  {
   "cell_type": "code",
   "execution_count": 6,
   "metadata": {},
   "outputs": [
    {
     "data": {
      "application/vnd.jupyter.widget-view+json": {
       "model_id": "48c394e2842c44218ae2dc6f515674a2",
       "version_major": 2,
       "version_minor": 0
      },
      "text/plain": [
       "Evaluating:   0%|          | 0/12 [00:00<?, ?it/s]"
      ]
     },
     "metadata": {},
     "output_type": "display_data"
    },
    {
     "name": "stderr",
     "output_type": "stream",
     "text": [
      "No statements were generated from the answer.\n",
      "No statements were generated from the answer.\n",
      "No statements were generated from the answer.\n",
      "Failed to parse output. Returning None.\n",
      "Failed to parse output. Returning None.\n"
     ]
    }
   ],
   "source": [
    "from ragas import evaluate\n",
    "\n",
    "ragas_score = evaluate(dataset, metrics=[faithfulness, answer_correctness, answer_similarity])"
   ]
  },
  {
   "cell_type": "code",
   "execution_count": 7,
   "metadata": {},
   "outputs": [
    {
     "data": {
      "text/html": [
       "<div>\n",
       "<style scoped>\n",
       "    .dataframe tbody tr th:only-of-type {\n",
       "        vertical-align: middle;\n",
       "    }\n",
       "\n",
       "    .dataframe tbody tr th {\n",
       "        vertical-align: top;\n",
       "    }\n",
       "\n",
       "    .dataframe thead th {\n",
       "        text-align: right;\n",
       "    }\n",
       "</style>\n",
       "<table border=\"1\" class=\"dataframe\">\n",
       "  <thead>\n",
       "    <tr style=\"text-align: right;\">\n",
       "      <th></th>\n",
       "      <th>question</th>\n",
       "      <th>answer</th>\n",
       "      <th>contexts</th>\n",
       "      <th>ground_truth</th>\n",
       "      <th>faithfulness</th>\n",
       "      <th>answer_correctness</th>\n",
       "      <th>answer_similarity</th>\n",
       "    </tr>\n",
       "  </thead>\n",
       "  <tbody>\n",
       "    <tr>\n",
       "      <th>0</th>\n",
       "      <td>조석이 기르던 고양이 이름은 뭐야?</td>\n",
       "      <td>게레로</td>\n",
       "      <td>[게레로는 2007년 조석이 잠시 맡아 키우던 고양이. 고향 부모 집에 맡겼고 오래...</td>\n",
       "      <td>게레로</td>\n",
       "      <td>0.0</td>\n",
       "      <td>1.000000</td>\n",
       "      <td>1.000000</td>\n",
       "    </tr>\n",
       "    <tr>\n",
       "      <th>1</th>\n",
       "      <td>조석은 몇년도에 고양이를 키웠어?</td>\n",
       "      <td>2005년</td>\n",
       "      <td>[게레로는 2007년 조석이 잠시 맡아 키우던 고양이. 고향 부모 집에 맡겼고 오래...</td>\n",
       "      <td>2007년</td>\n",
       "      <td>NaN</td>\n",
       "      <td>0.979297</td>\n",
       "      <td>0.917188</td>\n",
       "    </tr>\n",
       "    <tr>\n",
       "      <th>2</th>\n",
       "      <td>조석은 몇년도에 고양이를 키웠어?</td>\n",
       "      <td>2007년</td>\n",
       "      <td>[ 게레로는 2007년 조석이 잠시 맡아 키우던 고양이. 고향 부모 집에 맡겼고 오...</td>\n",
       "      <td>2007년</td>\n",
       "      <td>NaN</td>\n",
       "      <td>1.000000</td>\n",
       "      <td>1.000000</td>\n",
       "    </tr>\n",
       "    <tr>\n",
       "      <th>3</th>\n",
       "      <td>조석은 몇년도에 고양이를 키웠어?</td>\n",
       "      <td>2007</td>\n",
       "      <td>[게레로는 2007년 조석이 잠시 맡아 키우던 고양이. 고향 부모 집에 맡겼고 오래...</td>\n",
       "      <td>2007년</td>\n",
       "      <td>NaN</td>\n",
       "      <td>0.978104</td>\n",
       "      <td>0.912417</td>\n",
       "    </tr>\n",
       "  </tbody>\n",
       "</table>\n",
       "</div>"
      ],
      "text/plain": [
       "              question answer  \\\n",
       "0  조석이 기르던 고양이 이름은 뭐야?    게레로   \n",
       "1   조석은 몇년도에 고양이를 키웠어?  2005년   \n",
       "2   조석은 몇년도에 고양이를 키웠어?  2007년   \n",
       "3   조석은 몇년도에 고양이를 키웠어?   2007   \n",
       "\n",
       "                                            contexts ground_truth  \\\n",
       "0  [게레로는 2007년 조석이 잠시 맡아 키우던 고양이. 고향 부모 집에 맡겼고 오래...          게레로   \n",
       "1  [게레로는 2007년 조석이 잠시 맡아 키우던 고양이. 고향 부모 집에 맡겼고 오래...        2007년   \n",
       "2  [ 게레로는 2007년 조석이 잠시 맡아 키우던 고양이. 고향 부모 집에 맡겼고 오...        2007년   \n",
       "3  [게레로는 2007년 조석이 잠시 맡아 키우던 고양이. 고향 부모 집에 맡겼고 오래...        2007년   \n",
       "\n",
       "   faithfulness  answer_correctness  answer_similarity  \n",
       "0           0.0            1.000000           1.000000  \n",
       "1           NaN            0.979297           0.917188  \n",
       "2           NaN            1.000000           1.000000  \n",
       "3           NaN            0.978104           0.912417  "
      ]
     },
     "execution_count": 7,
     "metadata": {},
     "output_type": "execute_result"
    }
   ],
   "source": [
    "ragas_score.to_pandas()"
   ]
  },
  {
   "cell_type": "markdown",
   "metadata": {},
   "source": [
    "## Test dataset synthesis"
   ]
  },
  {
   "cell_type": "code",
   "execution_count": 2,
   "metadata": {},
   "outputs": [],
   "source": [
    "from langchain_community.document_loaders import TextLoader\n",
    "\n",
    "loader = TextLoader(\"namuwiki.txt\")\n",
    "documents = loader.load()"
   ]
  },
  {
   "cell_type": "code",
   "execution_count": 4,
   "metadata": {},
   "outputs": [],
   "source": [
    "from ragas.testset.generator import TestsetGenerator\n",
    "from ragas.testset.evolutions import simple, reasoning, multi_context\n",
    "from langchain_openai import ChatOpenAI, OpenAIEmbeddings\n",
    "\n",
    "# documents = load your documents\n",
    "\n",
    "# generator with openai models\n",
    "generator_llm = ChatOpenAI(model=\"gpt-3.5-turbo-16k\")\n",
    "critic_llm = ChatOpenAI(model=\"gpt-3.5-turbo-16k\")\n",
    "embeddings = OpenAIEmbeddings()\n",
    "\n",
    "generator = TestsetGenerator.from_langchain(generator_llm, critic_llm, embeddings)"
   ]
  },
  {
   "cell_type": "code",
   "execution_count": 10,
   "metadata": {},
   "outputs": [
    {
     "data": {
      "text/html": [
       "<div>\n",
       "<style scoped>\n",
       "    .dataframe tbody tr th:only-of-type {\n",
       "        vertical-align: middle;\n",
       "    }\n",
       "\n",
       "    .dataframe tbody tr th {\n",
       "        vertical-align: top;\n",
       "    }\n",
       "\n",
       "    .dataframe thead th {\n",
       "        text-align: right;\n",
       "    }\n",
       "</style>\n",
       "<table border=\"1\" class=\"dataframe\">\n",
       "  <thead>\n",
       "    <tr style=\"text-align: right;\">\n",
       "      <th></th>\n",
       "      <th>question</th>\n",
       "      <th>contexts</th>\n",
       "      <th>ground_truth</th>\n",
       "      <th>evolution_type</th>\n",
       "      <th>metadata</th>\n",
       "      <th>episode_done</th>\n",
       "    </tr>\n",
       "  </thead>\n",
       "  <tbody>\n",
       "    <tr>\n",
       "      <th>0</th>\n",
       "      <td>Who are the relatives of 조석 in 마음의소리?</td>\n",
       "      <td>[개요: 마음의소리의 등장인물을 정리한 문서.\\n조석의 가족: 조석의 가족 및 친척...</td>\n",
       "      <td>조석의 가족 및 친척들. 현재 시점에서는 조석, 형 조준, 부모님, 아내 애봉이, ...</td>\n",
       "      <td>simple</td>\n",
       "      <td>[{'source': 'namuwiki.txt'}]</td>\n",
       "      <td>True</td>\n",
       "    </tr>\n",
       "    <tr>\n",
       "      <th>1</th>\n",
       "      <td>What is the role of \"소대장\" in the comic, given ...</td>\n",
       "      <td>[은 그냥 옛날부터 엑스트라로 등장하던 이름인 \"민철\"을 거꾸로 한 것으로 보인다....</td>\n",
       "      <td>The role of '소대장' in the comic is to occasiona...</td>\n",
       "      <td>multi_context</td>\n",
       "      <td>[{'source': 'namuwiki.txt'}]</td>\n",
       "      <td>True</td>\n",
       "    </tr>\n",
       "  </tbody>\n",
       "</table>\n",
       "</div>"
      ],
      "text/plain": [
       "                                            question  \\\n",
       "0              Who are the relatives of 조석 in 마음의소리?   \n",
       "1  What is the role of \"소대장\" in the comic, given ...   \n",
       "\n",
       "                                            contexts  \\\n",
       "0  [개요: 마음의소리의 등장인물을 정리한 문서.\\n조석의 가족: 조석의 가족 및 친척...   \n",
       "1  [은 그냥 옛날부터 엑스트라로 등장하던 이름인 \"민철\"을 거꾸로 한 것으로 보인다....   \n",
       "\n",
       "                                        ground_truth evolution_type  \\\n",
       "0  조석의 가족 및 친척들. 현재 시점에서는 조석, 형 조준, 부모님, 아내 애봉이, ...         simple   \n",
       "1  The role of '소대장' in the comic is to occasiona...  multi_context   \n",
       "\n",
       "                       metadata  episode_done  \n",
       "0  [{'source': 'namuwiki.txt'}]          True  \n",
       "1  [{'source': 'namuwiki.txt'}]          True  "
      ]
     },
     "execution_count": 10,
     "metadata": {},
     "output_type": "execute_result"
    }
   ],
   "source": [
    "testset_pandas = testset.to_pandas()\n",
    "testset_pandas.to_csv(\"testset_generated_0611.csv\")"
   ]
  }
 ],
 "metadata": {
  "kernelspec": {
   "display_name": "ragas",
   "language": "python",
   "name": "python3"
  },
  "language_info": {
   "codemirror_mode": {
    "name": "ipython",
    "version": 3
   },
   "file_extension": ".py",
   "mimetype": "text/x-python",
   "name": "python",
   "nbconvert_exporter": "python",
   "pygments_lexer": "ipython3",
   "version": "3.10.14"
  }
 },
 "nbformat": 4,
 "nbformat_minor": 2
}
